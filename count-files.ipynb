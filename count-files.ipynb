{
 "cells": [
  {
   "cell_type": "code",
   "execution_count": 2,
   "metadata": {},
   "outputs": [
    {
     "name": "stdout",
     "output_type": "stream",
     "text": [
      "There are 284 files so far.\n"
     ]
    }
   ],
   "source": [
    "import os\n",
    "\n",
    "total = 0\n",
    "exclude = set(['work-specific', 'graph_examples', \n",
    "               'til', 'supporting-images', \n",
    "               '.vscode', 'README.md', \n",
    "               '.gitignore', 'example-datasets',               \n",
    "               'notebook.ipynb', '.git'])\n",
    "\n",
    "for root, dirs, files in os.walk(os.getcwd()):\n",
    "    dirs[:] = [d for d in dirs if d not in exclude]\n",
    "    total += len(files)\n",
    "    \n",
    "print(f\"There are {total} files so far.\")"
   ]
  }
 ],
 "metadata": {
  "kernelspec": {
   "display_name": "Python 3",
   "language": "python",
   "name": "python3"
  },
  "language_info": {
   "codemirror_mode": {
    "name": "ipython",
    "version": 3
   },
   "file_extension": ".py",
   "mimetype": "text/x-python",
   "name": "python",
   "nbconvert_exporter": "python",
   "pygments_lexer": "ipython3",
   "version": "3.11.0"
  },
  "orig_nbformat": 4,
  "vscode": {
   "interpreter": {
    "hash": "a6d6adc07ba24f8768678212a8ededc6fc20186e3b4fd221f2a51962bbbce88b"
   }
  }
 },
 "nbformat": 4,
 "nbformat_minor": 2
}
