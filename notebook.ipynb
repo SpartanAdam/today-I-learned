{
 "cells": [
  {
   "cell_type": "code",
   "execution_count": 3,
   "metadata": {},
   "outputs": [],
   "source": [
    "import os"
   ]
  },
  {
   "cell_type": "code",
   "execution_count": 11,
   "metadata": {},
   "outputs": [
    {
     "name": "stdout",
     "output_type": "stream",
     "text": [
      "There are 291 files so far.\n"
     ]
    }
   ],
   "source": [
    "total = 0\n",
    "exclude = set(['work-specific', 'graph_examples', 'til', 'supporting-images', '.vscode/', 'README.md', '.gitignore', 'example-datasets', 'notebook.ipynb'])\n",
    "\n",
    "for root, dirs, files in os.walk(os.getcwd()):\n",
    "    dirs[:] = [d for d in dirs if d not in exclude]\n",
    "    total += len(files)\n",
    "    \n",
    "print(f\"There are {total} files so far.\")"
   ]
  },
  {
   "cell_type": "code",
   "execution_count": 4,
   "metadata": {},
   "outputs": [
    {
     "name": "stdout",
     "output_type": "stream",
     "text": [
      "/home/adam\n",
      "/home/adam/my_folder\n"
     ]
    }
   ],
   "source": [
    "import os\n",
    "\n",
    "home = os.path.expanduser('~')\n",
    "\n",
    "print(home)\n",
    "\n",
    "path_to_file = os.path.join(home, 'my_folder')\n",
    "\n",
    "print(path_to_file)\n"
   ]
  }
 ],
 "metadata": {
  "kernelspec": {
   "display_name": "til",
   "language": "python",
   "name": "python3"
  },
  "language_info": {
   "codemirror_mode": {
    "name": "ipython",
    "version": 3
   },
   "file_extension": ".py",
   "mimetype": "text/x-python",
   "name": "python",
   "nbconvert_exporter": "python",
   "pygments_lexer": "ipython3",
   "version": "3.10.6"
  },
  "orig_nbformat": 4,
  "vscode": {
   "interpreter": {
    "hash": "b11c5b285f2c31f808e1cd5ce3861e824a5c1f89592b92897dafcb1bfe37d479"
   }
  }
 },
 "nbformat": 4,
 "nbformat_minor": 2
}
