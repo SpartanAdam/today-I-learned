{
 "cells": [
  {
   "cell_type": "code",
   "execution_count": null,
   "metadata": {},
   "outputs": [],
   "source": [
    "import os"
   ]
  },
  {
   "cell_type": "code",
   "execution_count": null,
   "metadata": {},
   "outputs": [],
   "source": [
    "total = 0\n",
    "exclude = set(['work-specific', 'graph_examples', 'til', 'supporting-images', '.vscode/', 'README.md', '.gitignore', 'example-datasets', 'notebook.ipynb'])\n",
    "for root, dirs, files in os.walk(os.getcwd()):\n",
    "    dirs[:] = [d for d in dirs if d not in exclude]\n",
    "    total += len(files)\n",
    "    \n",
    "print(f\"There are {total} files so far.\")"
   ]
  },
  {
   "cell_type": "code",
   "execution_count": null,
   "metadata": {},
   "outputs": [],
   "source": [
    "import os\n",
    "\n",
    "home = os.path.expanduser('~')\n",
    "\n",
    "print(home)\n",
    "\n",
    "path_to_file = os.path.join(home, 'my_folder')\n",
    "\n",
    "print(path_to_file)\n"
   ]
  },
  {
   "cell_type": "code",
   "execution_count": null,
   "metadata": {},
   "outputs": [],
   "source": [
    "import numpy as np\n",
    "import matplotlib.pyplot as plt\n",
    "\n",
    "flips = 1000\n",
    "outcomes = np.random.randint(0,2, size=flips)\n",
    "adjusted_outcome = np.where(outcomes > 0, \"Heads\", \"Tails\")\n",
    "unique, count = np.unique(adjusted_outcome, return_counts=True)\n",
    "\n",
    "d = dict(zip(unique, count))\n",
    "plt.bar(*zip(*d.items()))\n",
    "plt.show()"
   ]
  },
  {
   "cell_type": "code",
   "execution_count": null,
   "metadata": {},
   "outputs": [],
   "source": [
    "import string\n",
    "from random import *\n",
    "\n",
    "characters = list(string.printable)\n",
    "\n",
    "userPass = \"abc\"\n",
    "guessPass = \"\"\n",
    "\n",
    "while guessPass != userPass:\n",
    "    guessPass = \"\"\n",
    "    for letter in range(len(userPass)):\n",
    "        guessCharacter = characters[randint(0, len(characters)-1)]\n",
    "        guessPass = str(guessCharacter) + str(guessPass)\n",
    "        print(f\"Attempt: {letter} - {guessCharacter}\")\n",
    "    \n",
    "print(f\"Guessed password is: {guessPass}\")"
   ]
  },
  {
   "cell_type": "code",
   "execution_count": null,
   "metadata": {},
   "outputs": [],
   "source": [
    "x = [\"foo\", \"bar\", \"baz\"]\n",
    "y = [9, 10, 2]\n",
    "\n",
    "zipped_list = list(zip(x, y))\n",
    "sorted_list = sorted(zipped_list, key=lambda x: x[1])\n",
    "\n",
    "print(\"Zipped list: \\n\", zipped_list)\n",
    "print(\"\\n\")\n",
    "print(\"Sorted list: \\n\", sorted_list)"
   ]
  },
  {
   "cell_type": "code",
   "execution_count": null,
   "metadata": {},
   "outputs": [],
   "source": [
    "x = [\"foo\", \"bar\", \"baz\"]\n",
    "y = [1,3,2]\n",
    "\n",
    "zipped_list = list(zip(x,y))\n",
    "sorted_list = sorted(zipped_list, key=lambda x: x[1])\n",
    "\n",
    "print(zipped_list)\n",
    "print()\n",
    "print(sorted_list)\n"
   ]
  },
  {
   "cell_type": "code",
   "execution_count": null,
   "metadata": {},
   "outputs": [],
   "source": [
    "x = [\"foo\", \"bar\", \"baz\"]\n",
    "y = [2, 10, 5]\n",
    "\n",
    "zipped_list = list(zip(x,y))\n",
    "print(zipped_list)\n",
    "sorted_list = sorted(zipped_list, key=lambda x: x[1])\n",
    "print(sorted_list)"
   ]
  },
  {
   "cell_type": "code",
   "execution_count": null,
   "metadata": {},
   "outputs": [],
   "source": [
    "import numpy as np\n",
    "import matplotlib.pyplot as plt\n",
    "from scipy.signal import savgol_filter\n",
    "\n",
    "# Generate some example data\n",
    "x = np.linspace(0, 10, 100)\n",
    "y = np.sin(x) + np.random.normal(0, 0.2, size=100)\n",
    "\n",
    "# Apply a smoothing function (Savitzky-Golay filter) to the data\n",
    "window_length = 50  # The length of the smoothing window\n",
    "poly_order = 3     # The order of the polynomial used to fit the samples within the window\n",
    "y_smoothed = savgol_filter(y, window_length, poly_order)\n",
    "\n",
    "# Plot the original data and the smoothed line\n",
    "# plt.plot(x, y, label='Original')\n",
    "plt.plot(x, y_smoothed, label='Smoothed')\n",
    "plt.legend()\n",
    "\n",
    "# Display the plot\n",
    "plt.show()\n"
   ]
  },
  {
   "cell_type": "code",
   "execution_count": null,
   "metadata": {},
   "outputs": [],
   "source": [
    "import pandas as pd\n",
    "import numpy as np\n",
    "import matplotlib.pyplot as plt\n",
    "import matplotlib.lines as mlines\n",
    "import matplotlib.patches as mpatches\n",
    "\n",
    "data = [\n",
    "    ['LATAM', 10, 30, 60],\n",
    "    ['SEA', 20, 40, 70],\n",
    "    ['SA', 40, 60, 80]\n",
    "]\n",
    "\n",
    "df = pd.DataFrame(data=data, columns=['Region', 'Sept-21', 'Sept-22', 'Sept-23'])\n",
    "region_colors = ['#952e8f', '#0a5f38', '#0c06f7']\n",
    "categories = list(df['Region'].unique())\n",
    "\n",
    "fig, ax = plt.subplots(figsize=(12,7))\n",
    "for i, region in enumerate(df['Region']):\n",
    "    region_data = df.loc[df['Region'] == region, ['Sept-21', 'Sept-22', 'Sept-23']]\n",
    "    ax.plot(['Sept-21', 'Sept-22', 'Sept-23'], region_data.values[0], marker='o', markeredgecolor='white', markeredgewidth=2, markersize=12, lw=3, color=region_colors[i], label=region, zorder=2)\n",
    "    \n",
    "# adjust styling\n",
    "# titles\n",
    "ax.text(x=0.125, y=1, s=\"Applications\", transform=fig.transFigure, ha='left', fontsize=14, weight='bold', fontname=\"Bahnschrift\")\n",
    "ax.text(x=0.125, y=.97, s=\"Applications are growing!\", transform=fig.transFigure,  ha='left', fontsize=11, alpha=.7, fontname=\"Bahnschrift\")\n",
    "\n",
    "# Set source text\n",
    "fig.text(x=0.125, y=0.04, s=\"Source: I don't need any source.\", transform=fig.transFigure, ha='left', fontsize=11, alpha=.7, fontname=\"Bahnschrift\")\n",
    "\n",
    "# add fancy lines and rectangle\n",
    "ax.plot([0.125, 0.92],\n",
    "        [1.06, 1.06],\n",
    "        transform=fig.transFigure,\n",
    "        clip_on=False,\n",
    "        color='#007F7B',\n",
    "        linewidth=.6)\n",
    "\n",
    "ax.add_patch(mpatches.Rectangle((0.125, 1.06),\n",
    "                                0.06,\n",
    "                                -0.025,\n",
    "                                facecolor='#007F7B',\n",
    "                                transform=fig.transFigure,\n",
    "                                clip_on=False,\n",
    "                                linewidth=.6))\n",
    "\n",
    "# adjust grid\n",
    "ax.grid(which='major', axis='y', lw=1.2, alpha=.7, color='#A8BAC4', zorder=1)\n",
    "\n",
    "# adjust spines\n",
    "for spine in [\"left\", \"right\", \"top\"]:\n",
    "    ax.spines[spine].set_visible(False)\n",
    "ax.spines[spine].set_lw(1.2)\n",
    "ax.spines[spine].set_capstyle(\"butt\")\n",
    "\n",
    "# adjust x axis\n",
    "for label in ax.xaxis.get_ticklabels():\n",
    "    label.set_fontproperties(\"Bahnschrift\")\n",
    "ax.xaxis.set_tick_params(length=5, pad=5, labelsize=12)\n",
    "\n",
    "# adjust y axis\n",
    "ax.yaxis.set_ticks(np.arange(0, 101, 10))\n",
    "ax.yaxis.set_ticklabels(np.arange(0, 101, 10), ha='right', va='bottom', fontfamily=\"Consolas\")\n",
    "ax.yaxis.set_tick_params(length=0, labelleft=False, labelright=True, labelsize=12, pad=20)\n",
    "\n",
    "# custom legend\n",
    "custom_legend = []\n",
    "for i, cat in enumerate(categories):\n",
    "    label = mlines.Line2D([], [], color=region_colors[i], linestyle='solid', marker='o', markeredgecolor='white', markersize=12, label=cat)\n",
    "    custom_legend.append(label)\n",
    "\n",
    "# Add the legend to the plot\n",
    "legend_font = {'family': \"Bahnschrift\", 'size': 11, 'weight': 'bold'}\n",
    "fig.legend(handles=custom_legend, loc=(0, 0.5), bbox_to_anchor=(0.125, 0.91), ncol=len(categories), fontsize=10, prop=legend_font)\n",
    "\n",
    "plt.savefig('graph_examples/charts-from-pivoted-data.png', dpi=300, bbox_inches='tight', facecolor='white')\n",
    "plt.show()"
   ]
  },
  {
   "cell_type": "code",
   "execution_count": 5,
   "metadata": {},
   "outputs": [
    {
     "name": "stdout",
     "output_type": "stream",
     "text": [
      "There are 310 files.\n"
     ]
    }
   ],
   "source": [
    "import os\n",
    "\n",
    "exclude = ['graph_examples', 'example-datasets', 'non-tracked', 'supporting-images', '.git', '.gitignore']\n",
    "total = 0\n",
    "for root, dirs, files in os.walk(os.getcwd()):\n",
    "    dirs[:] = [d for d in dirs if d not in exclude]\n",
    "    total += len(files)\n",
    "    \n",
    "print(f\"There are {total} files.\")"
   ]
  }
 ],
 "metadata": {
  "kernelspec": {
   "display_name": "Python 3",
   "language": "python",
   "name": "python3"
  },
  "language_info": {
   "codemirror_mode": {
    "name": "ipython",
    "version": 3
   },
   "file_extension": ".py",
   "mimetype": "text/x-python",
   "name": "python",
   "nbconvert_exporter": "python",
   "pygments_lexer": "ipython3",
   "version": "3.11.3"
  },
  "orig_nbformat": 4,
  "vscode": {
   "interpreter": {
    "hash": "a6d6adc07ba24f8768678212a8ededc6fc20186e3b4fd221f2a51962bbbce88b"
   }
  }
 },
 "nbformat": 4,
 "nbformat_minor": 2
}
