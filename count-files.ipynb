{
 "cells": [
  {
   "cell_type": "code",
   "execution_count": 4,
   "metadata": {},
   "outputs": [
    {
     "name": "stdout",
     "output_type": "stream",
     "text": [
      "There are 267 files so far.\n"
     ]
    }
   ],
   "source": [
    "import os\n",
    "\n",
    "total = 0\n",
    "exclude = set(['work-specific', 'graph_examples', \n",
    "               'til', 'supporting-images', \n",
    "               '.vscode', 'README.md', \n",
    "               '.gitignore', 'example-datasets',               \n",
    "               'notebook.ipynb', '.git'])\n",
    "\n",
    "for root, dirs, files in os.walk(os.getcwd()):\n",
    "    dirs[:] = [d for d in dirs if d not in exclude]\n",
    "    total += len(files)\n",
    "    \n",
    "print(f\"There are {total} files so far.\")"
   ]
  },
  {
   "cell_type": "code",
   "execution_count": 3,
   "metadata": {},
   "outputs": [
    {
     "name": "stdout",
     "output_type": "stream",
     "text": [
      "['count-files.ipynb', 'README.md', 'notebook.ipynb', '.gitignore', 'count-files.py']\n",
      "['round_to_nearest_multiple.md', 'access_columns.md', 'lookup-value-in-a-dictionary.md', 'rounding_numbers_to_an_interger.md', 'compress_dataframes_to_zip.md', 'using_collections.md', 'fuzzy-lookup.md', 'using_docstrings.md', 'get_surveys_from_surveymonkey.md', 'nested_list_comprehensions.md', 'using_enumerate.md', 'dynamically-reference-user-root.md', 'send_email.md', 'perform-calculations-on-dictionaries.md', 'using-map.md', 'using_lambda.md', 'using_classes.md', 'using_rest.md', 'create-zipped-folder.md', 'generate-dictionary-keys.md', 'using_asterisks.md', 'calculate_average.md', 'round-multiple-columns.md', 'using_os.md', 'using_loc.md', 'adding_to_and_updating_dictionaries.md', 'introspection.md', 'append_csvs.md', 'insert_characters_into_string.md', 'integer_division.md', 'using_zip.md', 'binary_operators.md', 'flatten_nested_lists.md', 'using_datetime.md', 'write_and_read_files.md', 'dataframe_shape.md', 'using-case.md', 'subtracting_or_adding_dates.md', 'count_files_in_directory.md', 'using_requests.md', 'expanding_nested_json.md', 'merge_pdfs.md', 'using-class-methods.md', 'download-and-save-files.md', 'add_percentage_symbol.md', 'access_values_nested_dictionary.md', 'remove_text_after_character.md', 'create_a_calculate_column.md', 'using_string_formatting.md', 'using_dictionaries.md', 'using_lambda_with_conditions.md', 'using_range.md']\n",
      "['test-multiple-conditions.md', 'add_comments.md', 'subtract-previous-value.md', 'using_calculate_multiple_conditions.md']\n",
      "['offload_table_to_delta.md', 'using_widgets.md', 'remove_widgets.md', 'search_for_students.md']\n",
      "['remove-accents-from-strings.md', 'split_sheet_to_multiple.md']\n",
      "['subtract-previous-row.md', 'select-distinct-on-one-column.md', 'using_coalesce.md', 'search-a-column.md', 'using_over_clause.md', 'get_latest_record.md', 'create_tables.md', 'cumulative-sum.md', 'using_with_statement.md', 'using_lag.md', 'using_union.md', 'alter_tables.md']\n",
      "['unblock-file.md']\n",
      "['group-dictionary-values-by-key.md', 'unpack-nested-lists-to-a-dictionary.md']\n",
      "['round_to_nearest_multiple.md', 'surveymonkey-api.md', 'convert-pandas-to-spark-dataframe.md', 'days_between.md', 'lookup-list-value-in-a-dictionary.md', 'create_qr_codes.md', 'count-files-in-a-directory.md', 'lookup_value_in_dictionary.md', 'cagr.md', 'download-files.md', 'convert-seconds-to-various-timeseries.md', 'backup-directories.md', 'age_on_entry.md']\n",
      "['remove-hesa-cah-codes.md', 'find-uk-numbers.md']\n",
      "['check_if_leap_year.md', 'print_numbers_inbetween.md']\n",
      "['show_databases.md', 'connecting_to_database.md']\n",
      "['using-tmux.md', 'adding_alias_to_bash.md', 'make-directories.md', 'reset-keygen.md', 'performing_updates.md', 'change-dns-servers.md', 'get-files-via-scp.md', 'measure-cpu-temp.md', 'find-a-file.md', 'check_available_space.md', 'delete-files-and-dirs.md', 'update_pihole.md']\n",
      "['read-file-from-dbfs.md', 'remove-characters-from-column-headers.md', 'using_spark_table.md', 'lookup-values-in-dictionary.md', 'creating_schemas.md', 'convert_pandas_to_spark.md', 'add_column_to_dataframe.md', 'drop_columns.md', 'cast_dataframe_to_string.md', 'show_unique_values.md']\n",
      "['console.md', 'machine_code.md', 'source_file.md', 'script.md', 'cpython.md', 'fundamentals_of_language.md']\n",
      "['create-a-virtual-environment.md', 'create-dynamic-bat-scripts.md', 'delete-a-directory.md', 'cd-to-other-drive.md', 'list_files_in_dir.md', 'make_new_directory.md']\n",
      "['restrict_values_threshold.md', 'using_np_where.md']\n",
      "['pad_axis.md', 'create_barplots.md', 'create_advanced_lineplots.md', 'create_boxplots.md', 'add-text-to-plots.md', 'using-plt-xkcd.md', 'create_dumbell_chart.md', 'create_countplot.md', 'create_scatter_plots.md', 'add_line_labels.md', 'create_lineplots.md', 'add_titles.md', 'create_lineplot_with_markers.md', 'moving_legend.md', 'add_bar_labels.md', 'annotate_plots.md', 'create_pie_charts.md', 'conditional_colors.md', 'create-swarm-plots.md', 'colors.md', 'plot_a_quick_graph.md', 'rotate_xlabels.md', 'plot_confidence_intervals.md', 'using_plt_subplots.md', 'saving-images.md', 'invert_axis.md']\n",
      "['extract-times-higher-education-tables.md', 'prevent_windows_from_sleeping.md', 'copy-directories.md', 'download_files.md']\n",
      "['round_to_nearest_multiple.md', 'format__negative_numbers_in_parenthesis.md', 'formatting_numbers.md', 'calculate_age.md', 'calculating_margin_of_error.md', 'calculate_pct_increase_decrease.md', 'forecasting_with_cagr.md', 'calculating_cagr.md', 'check_if_value_is_in_list.md', 'conditional_formatting_row.md', 'vlookup_multiple_conditions.md', 'calculate_market_share.md']\n",
      "['create_a_table_using_python.md', 'returning_icons.md']\n",
      "['add_difference_column.md', 'pull-tables-from-webpages.md', 'test-multiple-conditions.md', 'filter_dataframe_to_unique_values.md', 'read_csvs.md', 'sum_columns.md', 'sum_specific_rows_columns.md', 'rename_columns.md', 'create_percentage_values_in_pivots.md', 'convert_column_to_datetime.md', 'convert_dataframe_to_dict.md', 'keep_only_nan_values.md', 'merge-dataframes-with-only-unique-columns.md', 'create_mean_row_or_column.md', 'sub-totals-in-pivot-tables.md', 'replace_values_in_columns.md', 'reorder_pivot_table.md', 'using_bins_or_buckets.md', 'created_nested_dictionaries_from_dataframes.md', 'drop_rows_not_integers.md', 'construct_dataframe_from_list.md', 'filter_dataframe.md', 'check-if-value-exists-in-another-dataframe.md', 'using_at.md', 'merge_dataframes_update_values.md', 'using_rank.md', 'remove_spaces_from_columns.md', 'show_duplicated_columns.md', 'add_cumulative_sum_column.md', 'sum_rows.md', 'using_melt.md', 'change_data_type_multiple_columns.md', 'dynamically_change_duplicated_column_names.md', 'create-top-n-and-others-pivot.md', 'merge_dataframes.md', 'using_pivot_tables.md', 'add_square_root_column.md', 'replace_value_with_value_from_column.md', 'expand_column_width.md', 'convert-dataframe-to-nested-dictionary.md', 'float_display_format.md', 'count_frequency_of_item.md', 'insert_column.md', 'combining_columns.md', 'dynamically-slice-strings-in-columns.md', 'limit_dataframe.md', 'using_groupby.md', 'perform_calculations_using_rows.md', 'construct_dataframe_from_dictionary.md', 'create_a_week_commencing_column.md', 'unstack_dictionary_to_dataframe.md', 'remove_multiple_characters_from_column_header.md', 'using_nlargest.md', 'write_dataframes_to_excel.md', 'restrict_dataframe_by_rows_columns.md', 'create_random_dataframe.md', 'convert_value_counts_to_dataframe.md', 'convert_dataframe_to_textfile.md', 'perform_calculations_on_multilevel_pivot_tables.md', 'using_json_normalize.md']\n",
      "['HEAD', 'ORIG_HEAD', 'description', 'index', 'FETCH_HEAD', 'COMMIT_EDITMSG', 'config', 'packed-refs']\n",
      "[]\n",
      "[]\n",
      "['master']\n",
      "[]\n",
      "['HEAD', 'master']\n",
      "['exclude']\n",
      "['HEAD']\n",
      "[]\n",
      "['master']\n",
      "[]\n",
      "['HEAD', 'master']\n",
      "['commit-msg.sample', 'pre-applypatch.sample', 'pre-push.sample', 'pre-rebase.sample', 'pre-commit.sample', 'pre-merge-commit.sample', 'update.sample', 'prepare-commit-msg.sample', 'fsmonitor-watchman.sample', 'push-to-checkout.sample', 'post-update.sample', 'applypatch-msg.sample', 'pre-receive.sample']\n",
      "[]\n",
      "['0b0f92c743b6ce85047ea86b0fb82428c9ebe7']\n",
      "['3d9cdd1425e6f791f0137e0abd80b9c2546445']\n",
      "['e4bcb7d7abdc5f3324c33a5e0f4642f83fdb5e', 'bf740b76bbff6de7f2c0521328d114fab65ec1']\n",
      "['5d10afe8c33b4c137d3ffd250e9427416d9b4d']\n",
      "['c6b9d7fd78de44ad20e03251f9f42da866826f']\n",
      "['5ab88701ef9abc2fb27e7d5c532e3bf2a90435']\n",
      "['519b97f43b824e1f9f22e6bc53d088ccabf1ae']\n",
      "['61eed3715edada151c92231f84d1ac97f2940a']\n",
      "['2b406fa917b9e480941d72a3785a5bf7839c8c', '2761cd74fc1998c4e7b0b493491f4b17f19792']\n",
      "['dafb4892e5550f55a6e41352ee73e8c6f42d78']\n",
      "['bb8e772a9dc3baef8b408a00c0f85092d7b515']\n",
      "['58a1e72a992848cf2053c19e4bf7d4088ebb6a']\n",
      "['a5463a1493c2c6ec1e8f10ecbef319331eaaf1']\n",
      "['c42d616d07f2744407239d1c77fec132a1edbd']\n",
      "['a720c42a221f91c04c10d927cb80475f24d93f', '3db4d5f0ded7636e214121f22138ca8baecb94']\n",
      "['77fb1f98a8ee4873e60cc60fcb87135c9d43fa']\n",
      "['0f1b04e1ffd1639747c6ffeb13d41f0bdac42e']\n",
      "['1328683bd1695b0e907276fc0934f73c4b5c9e']\n",
      "['10f049cb7d583d35c877e142b8ca1641296172']\n",
      "['ba7f9559493d8db55592e5550e384a8708eca1']\n",
      "[]\n",
      "['67983874d09d59222bc09a57a893aac334ed2b']\n",
      "['d1217e233d8893bc08ad046b1117e31790e79d']\n",
      "['5e6b04cdeba37a33d5d2f4d0cfcd975a75e576']\n",
      "['103f39ad7cb98c3e79af65eeeaf44a82cfe1f8']\n",
      "['dca3594e09e7392a41538f0e18de04885e07f3']\n",
      "['36175a917ebb710d4dfd7aeda24feebc275593']\n",
      "['6b60bfbb73f841f72c7dae63ae8745425addb3']\n",
      "['989faa59d3bdc492423317615205028731a6d5']\n",
      "['13f0e136997ee0825be667ebcdcfb03bcaf0c3', '359a5be46b5e59b45f8a35aa50745aa9862566']\n",
      "['pack-5ea5c8a2d8e3d8c66a00d260fdd7d20b618a428b.idx', 'pack-5ea5c8a2d8e3d8c66a00d260fdd7d20b618a428b.pack']\n",
      "['beedb6cc3bd5324c3a877d7f8f77f2d5881c04']\n",
      "['0027c948a774fb7e8146510f9f05804b15f3d3']\n",
      "['c90dea1de68f53a4f0e01a39d98baa9eb6d3e7', 'e2dd7cd62b38912ab478aabfcd07b978d389e4']\n",
      "['2b2d40cf17ca68633f82c3a780864b96903009']\n",
      "['8d2df139b613f838d8f944156acbd90f80a079']\n",
      "['557c752f54c8b8bd3057ef7bd317c2080cfeed']\n",
      "['cadee1eb3835a1d4662957feebfe57217bfc7f']\n",
      "['fb17d7f4e0ac46412e8e9736a062f6c572ff70']\n",
      "['321eadb5f09874375f699974fa2e2660ff6f61']\n",
      "['0ac631e29b1654dd79aab15094ee978174ebbc']\n",
      "['6dcb7b3791eabceee696b895f36559a178cf8e']\n",
      "['4040d3c5e13a82651ae3a33cd116dd28873bfb']\n",
      "['f6077e0751c974cef63c9bed76306af2c1e6c2']\n",
      "['f155905130879a1f1ffecefb1773171895541f', '57d8199c9264c4d4da77d2c71b9e119ad2073a']\n",
      "['257064dd91f2dea4b7ff867d436160040cd8d0']\n",
      "['1266ffd171d875a9513c4cfd246f1710f2d676']\n",
      "['81f58a026477586fd00aa674cf93bd18d9e6ed', '82c756fad06a79353065902c2fff29ec66b4bc']\n",
      "[]\n",
      "['clear_and_exit_ipython.md', 'save_files_ipython.md']\n",
      "['initialise-git.md', 'publish_branch.md', 'delete_branches.md', 'show-log.md', 'set-global-configs.md', 'updating_branch.md', 'create_new_branch.md', 'add_gitignore.md', 'rename-branches.md', 'commit_to_repo.md', 'stage_changes.md', 'chain_commands.md']\n",
      "['check-which-programs-can-be-updated', 'check-available-storage.md', 'install-programs-from-command-line.md']\n",
      "['formatting_code.md', 'subscript-text.md', 'insert-images.md', 'page-breaks.md', 'how_to_quote.md', 'create_tables.md', 'cheatsheet.md', 'convert_md_to_word.md', 'export_from_vs_code.md']\n"
     ]
    }
   ],
   "source": [
    "for root, dirs, files in os.walk(os.getcwd()):\n",
    "    dirs[:] = [d for d in dirs if d not in exclude]\n",
    "    total += len(files)\n",
    "    print(files)"
   ]
  }
 ],
 "metadata": {
  "kernelspec": {
   "display_name": "til",
   "language": "python",
   "name": "python3"
  },
  "language_info": {
   "codemirror_mode": {
    "name": "ipython",
    "version": 3
   },
   "file_extension": ".py",
   "mimetype": "text/x-python",
   "name": "python",
   "nbconvert_exporter": "python",
   "pygments_lexer": "ipython3",
   "version": "3.10.6"
  },
  "orig_nbformat": 4,
  "vscode": {
   "interpreter": {
    "hash": "b11c5b285f2c31f808e1cd5ce3861e824a5c1f89592b92897dafcb1bfe37d479"
   }
  }
 },
 "nbformat": 4,
 "nbformat_minor": 2
}
