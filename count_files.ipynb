{
 "cells": [
  {
   "cell_type": "code",
   "execution_count": 1,
   "metadata": {},
   "outputs": [],
   "source": [
    "import os, os.path\n",
    "import glob"
   ]
  },
  {
   "cell_type": "code",
   "execution_count": 2,
   "metadata": {},
   "outputs": [
    {
     "name": "stdout",
     "output_type": "stream",
     "text": [
      "The total number of files is 113\n"
     ]
    }
   ],
   "source": [
    "total = 0\n",
    "exclude = set(['.git', 'graph_examples', 'function_test.ipynb'])\n",
    "\n",
    "for root, dirs, files in os.walk('c:\\\\Users\\\\Adam.Lowe\\\\GitHub\\\\today-i-learned'):\n",
    "    dirs[:] = [d for d in dirs if d not in exclude]\n",
    "    total += len(files)\n",
    "\n",
    "print(f'The total number of files is {total-2}') # minus 2 to get rid of README and count_func"
   ]
  }
 ],
 "metadata": {
  "interpreter": {
   "hash": "c3314c1a789cf4d9f34d40e2661c6cdca4f03eaa144542c9099ed80c8a57a0ca"
  },
  "kernelspec": {
   "display_name": "Python 3.9.7 64-bit",
   "language": "python",
   "name": "python3"
  },
  "language_info": {
   "codemirror_mode": {
    "name": "ipython",
    "version": 3
   },
   "file_extension": ".py",
   "mimetype": "text/x-python",
   "name": "python",
   "nbconvert_exporter": "python",
   "pygments_lexer": "ipython3",
   "version": "3.9.7"
  },
  "orig_nbformat": 4
 },
 "nbformat": 4,
 "nbformat_minor": 2
}
